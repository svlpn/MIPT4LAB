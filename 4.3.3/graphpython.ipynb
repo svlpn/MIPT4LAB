{
 "cells": [
  {
   "cell_type": "code",
   "execution_count": 1,
   "metadata": {},
   "outputs": [
    {
     "name": "stdout",
     "output_type": "stream",
     "text": [
      "----- Параметры прямой -----\n",
      "a = -3.5767064382637415\n",
      "b = 128.20051432767738\n",
      "\n",
      "----- Погрешности параметров прямой -----\n",
      "sigma a = 1.8330494215193924\n",
      "sigma b = 4.717150160563188\n",
      "\n",
      "----- Оценка качества прямой критерием хи-квадрат -----\n",
      "Значение хи-квадрат = -3777.101774552376\n",
      "P-значение для 0.05 равно 1.0\n",
      "Принять гипотезу о нормальности\n"
     ]
    }
   ],
   "source": [
    "from math import *\n",
    "from scipy import stats\n",
    "from colorama import init, Fore, Back, Style\n",
    "init()\n",
    "\n",
    "'''Это прога для аппроксимации данных прямой методом наименьших квадратов, на ввод дается два списка координат точек.\n",
    "На выводе два a, b - параметры прямой, da, db - погрешности для параметров соответственно a и b и оценка критерием сходимости Пирсона (хи-квадрат).'''\n",
    "\n",
    "x = [0.2415, 0.510, 0.980, 1.235] # координата по оси x\n",
    "y = [30, 60, 117, 159] # координата по оси y\n",
    "\n",
    "# РАСЧЕТ ПАРАМЕТРОВ ПРЯМОЙ\n",
    "print(\"----- Параметры прямой -----\");\n",
    "xy = []\n",
    "x2 = []\n",
    "y2 = []\n",
    "n = len(x)\n",
    "m = len(y)\n",
    "if (n != m):\n",
    "\tprint(\"Длины x и y не равны\")\n",
    "for i in range(n): # Расчеты для формул из лабника\n",
    "\txy.append(x[i]*y[i])\n",
    "\tx2.append(x[i]*x[i])\n",
    "\ty2.append(y[i]*y[i])\n",
    "\n",
    "b = (((1/n)*sum(xy) - (1/n)*sum(x)*(1/n)*sum(y))/((1/n)*sum(x2)-(1/n)*sum(x)*(1/n)*sum(x))) # Формула из лабника\n",
    "a = (1/n)*sum(y)-b*(1/n)*sum(x) # Формула из лабника\n",
    "print(\"a =\", a)\n",
    "print(\"b =\", b)\n",
    "\n",
    "# РАСЧЕТ ПОГРЕШНОСТЕЙ ПАРАМЕТРОВ ПРЯМОЙ\n",
    "\n",
    "print(\"\\n----- Погрешности параметров прямой -----\");\n",
    "db = (1/sqrt(n))*(sqrt( ((1/n)*sum(y2) - (1/n)*sum(y)*(1/n)*sum(y))/((1/n)*sum(x2)-(1/n)*sum(x)*(1/n)*sum(x))-b*b ))\n",
    "da = db*sqrt((1/n)*sum(x2)-(1/n)*sum(x)*(1/n)*sum(x))\n",
    "print(\"sigma a =\", da);\n",
    "print(\"sigma b =\", db);\n",
    "\n",
    "\n",
    "# ОЦЕНКА КАЧЕСТВА ПРЯМОЙ КРИТЕРИЕМ ХИ-КВАДРАТ\n",
    "print(\"\\n----- Оценка качества прямой критерием хи-квадрат -----\");\n",
    "experiment = []; # Тут блять не должно быть нулей или отрицательных значений, а то там при делении пиздец возникает по типу отрицательного хи-квадрата, чего быть не может или огромного хи-квадрата\n",
    "theory = []; # И тут на всякий случай тоже\n",
    "for i in range(len(y)):\n",
    "\tif(y[i] != 0):\n",
    "\t\texperiment.append(y[i]);\n",
    "\t\ttheory.append(0.06333545606293856*x[i]-14.622075106026323);\n",
    "\n",
    "# Чтобы руками рассчитать хи-квадрат, нужно сложить все критерии Пирса, которые равны (экспериментальное-ожидаемое)^2/ожидаемое для каждой точки\n",
    "\n",
    "stat, pvalue = stats.chisquare(experiment, theory);\n",
    "alpha = 0.05;\n",
    "print(\"Значение хи-квадрат = \" + str(stat));\n",
    "print(\"P-значение для \" + str(alpha) + \" равно \" + str(pvalue));\n",
    "if pvalue > alpha:\n",
    "\tprint(Fore.GREEN + \"Принять гипотезу о нормальности\" + Fore.BLACK);\n",
    "else:\n",
    "\tprint(Fore.RED + \"Отклонить гипотезу о нормальности\" + Fore.BLACK);"
   ]
  },
  {
   "cell_type": "code",
   "execution_count": 2,
   "metadata": {},
   "outputs": [
    {
     "data": {
      "image/png": "[encoded data removed]",
      "text/plain": [
       "<Figure size 432x288 with 1 Axes>"
      ]
     },
     "metadata": {
      "needs_background": "light"
     },
     "output_type": "display_data"
    },
    {
     "data": {
      "image/png": "[encoded data removed]",
      "text/plain": [
       "<Figure size 432x288 with 1 Axes>"
      ]
     },
     "metadata": {
      "needs_background": "light"
     },
     "output_type": "display_data"
    },
    {
     "data": {
      "text/plain": [
       "<Figure size 432x288 with 0 Axes>"
      ]
     },
     "metadata": {},
     "output_type": "display_data"
    }
   ],
   "source": [
    "import matplotlib.pyplot as plt;\n",
    "from math import *;\n",
    "# plt.title('График', fontsize=20, fontname='Times New Roman');\n",
    "plt.xlabel('1/D, мм ^ (-1)', fontsize=14, fontname='Times New Roman');\n",
    "plt.ylabel('d, мкм', fontsize=14, fontname='Times New Roman');\n",
    "plt.grid(True, color='gray', linestyle='-', linewidth=0.1);\n",
    "plt.legend(['Калибровка']);\n",
    "\n",
    "\n",
    "fig = plt.figure()\n",
    "ax = fig.add_subplot(1, 1, 1)\n",
    "ax.grid(True, which='both')\n",
    "ax.set_ylim(0, 200)\n",
    "ax.set_xlim(0, 1.5)\n",
    "plt.xlabel('1/D, мм ^ (-1)', fontsize=14, fontname='Times New Roman');\n",
    "plt.ylabel('d, мкм', fontsize=14, fontname='Times New Roman');\n",
    "first_plot_1 = [];\n",
    "for x in range(3):\n",
    "\tfirst_plot_1.append(128.20051432767738*(x)-3.5767064382637415);\n",
    "plt.plot(first_plot_1);\n",
    "plt.plot([0.2415, 0.510, 0.980, 1.235],[30, 60, 117, 159], 'ro');\n",
    "xer = [0.0024, 0.006, 0.020, 0.025]\n",
    "yer = [6,6,6,8]\n",
    "ax = plt.errorbar([0.2415, 0.510, 0.980, 1.235], [30, 60, 117, 159], xerr= xer, yerr=yer, fmt='.k');\n",
    "\n",
    "\n",
    "plt.show();\n",
    "\n",
    "plt.savefig('example.png')\n",
    "plt.savefig('example2.png')"
   ]
  },
  {
   "cell_type": "code",
   "execution_count": null,
   "metadata": {},
   "outputs": [],
   "source": []
  }
 ],
 "metadata": {
  "kernelspec": {
   "display_name": "Python 3",
   "language": "python",
   "name": "python3"
  },
  "language_info": {
   "codemirror_mode": {
    "name": "ipython",
    "version": 3
   },
   "file_extension": ".py",
   "mimetype": "text/x-python",
   "name": "python",
   "nbconvert_exporter": "python",
   "pygments_lexer": "ipython3",
   "version": "3.8.3"
  }
 },
 "nbformat": 4,
 "nbformat_minor": 4
}
